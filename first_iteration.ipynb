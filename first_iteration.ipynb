{
 "cells": [
  {
   "cell_type": "code",
   "execution_count": 27,
   "id": "cf96d5c8-6825-4568-acfd-5aff2160f5b5",
   "metadata": {},
   "outputs": [],
   "source": [
    "from functions import *\n",
    "from sklearn.model_selection import train_test_split\n",
    "from sklearn.preprocessing import StandardScaler\n",
    "\n",
    "from sklearn.linear_model import LogisticRegression\n",
    "from sklearn.ensemble import RandomForestClassifier\n",
    "from sklearn.neighbors import KNeighborsClassifier \n",
    "from sklearn.linear_model import SGDClassifier\n",
    "from sklearn.tree import DecisionTreeRegressor, DecisionTreeClassifier\n",
    "from sklearn.model_selection import GridSearchCV, StratifiedKFold\n",
    "from sklearn.metrics import roc_auc_score, classification_report, f1_score\n",
    "\n",
    "import lightgbm as lgb\n",
    "import optuna\n",
    "from sklearn.metrics import log_loss\n",
    "\n",
    "import warnings\n",
    "warnings.filterwarnings('ignore')"
   ]
  },
  {
   "cell_type": "code",
   "execution_count": 28,
   "id": "61622dbe-82c7-4be5-a58d-0b28a34564b8",
   "metadata": {},
   "outputs": [],
   "source": [
    "person_df = pd.read_csv('data/alive.csv', delimiter=',')\n",
    "bot_df = pd.read_csv('data/bot.csv', delimiter=',')"
   ]
  },
  {
   "cell_type": "code",
   "execution_count": 29,
   "id": "e019be93-afcf-4e0e-a4ed-69ff148dd63c",
   "metadata": {},
   "outputs": [
    {
     "data": {
      "text/html": [
       "<div>\n",
       "<style scoped>\n",
       "    .dataframe tbody tr th:only-of-type {\n",
       "        vertical-align: middle;\n",
       "    }\n",
       "\n",
       "    .dataframe tbody tr th {\n",
       "        vertical-align: top;\n",
       "    }\n",
       "\n",
       "    .dataframe thead th {\n",
       "        text-align: right;\n",
       "    }\n",
       "</style>\n",
       "<table border=\"1\" class=\"dataframe\">\n",
       "  <thead>\n",
       "    <tr style=\"text-align: right;\">\n",
       "      <th></th>\n",
       "      <th>user_id</th>\n",
       "      <th>event_type</th>\n",
       "      <th>value</th>\n",
       "      <th>duration</th>\n",
       "      <th>timestamp</th>\n",
       "    </tr>\n",
       "  </thead>\n",
       "  <tbody>\n",
       "    <tr>\n",
       "      <th>0</th>\n",
       "      <td>1491655258</td>\n",
       "      <td>1</td>\n",
       "      <td>0</td>\n",
       "      <td>148</td>\n",
       "      <td>2022-01-30 16:01:01</td>\n",
       "    </tr>\n",
       "    <tr>\n",
       "      <th>1</th>\n",
       "      <td>1541245386</td>\n",
       "      <td>2</td>\n",
       "      <td>72</td>\n",
       "      <td>14147</td>\n",
       "      <td>2022-01-30 16:01:01</td>\n",
       "    </tr>\n",
       "    <tr>\n",
       "      <th>2</th>\n",
       "      <td>1541245386</td>\n",
       "      <td>3</td>\n",
       "      <td>36</td>\n",
       "      <td>14147</td>\n",
       "      <td>2022-01-30 16:01:01</td>\n",
       "    </tr>\n",
       "    <tr>\n",
       "      <th>3</th>\n",
       "      <td>2968374843</td>\n",
       "      <td>1</td>\n",
       "      <td>0</td>\n",
       "      <td>114</td>\n",
       "      <td>2022-01-30 16:01:01</td>\n",
       "    </tr>\n",
       "    <tr>\n",
       "      <th>4</th>\n",
       "      <td>3579288291</td>\n",
       "      <td>1</td>\n",
       "      <td>0</td>\n",
       "      <td>1567</td>\n",
       "      <td>2022-01-30 16:01:01</td>\n",
       "    </tr>\n",
       "  </tbody>\n",
       "</table>\n",
       "</div>"
      ],
      "text/plain": [
       "      user_id  event_type  value  duration            timestamp\n",
       "0  1491655258           1      0       148  2022-01-30 16:01:01\n",
       "1  1541245386           2     72     14147  2022-01-30 16:01:01\n",
       "2  1541245386           3     36     14147  2022-01-30 16:01:01\n",
       "3  2968374843           1      0       114  2022-01-30 16:01:01\n",
       "4  3579288291           1      0      1567  2022-01-30 16:01:01"
      ]
     },
     "execution_count": 29,
     "metadata": {},
     "output_type": "execute_result"
    }
   ],
   "source": [
    "person_df.head()"
   ]
  },
  {
   "cell_type": "code",
   "execution_count": 30,
   "id": "58b02ae8-c7f1-4447-930c-3298a179a9a5",
   "metadata": {},
   "outputs": [
    {
     "name": "stdout",
     "output_type": "stream",
     "text": [
      "Shape of alive is (100828, 5)\n",
      "Shape of bot is (7567, 5)\n"
     ]
    }
   ],
   "source": [
    "print(f'Shape of alive is {person_df.shape}')\n",
    "print(f'Shape of bot is {bot_df.shape}')"
   ]
  },
  {
   "cell_type": "code",
   "execution_count": 31,
   "id": "efc5a6d4-23fe-40a0-9aae-962ed47ece08",
   "metadata": {},
   "outputs": [
    {
     "data": {
      "text/plain": [
       "2    60336\n",
       "1    27735\n",
       "3    12757\n",
       "Name: event_type, dtype: int64"
      ]
     },
     "execution_count": 31,
     "metadata": {},
     "output_type": "execute_result"
    }
   ],
   "source": [
    "person_df['event_type'].value_counts(ascending=False)"
   ]
  },
  {
   "cell_type": "code",
   "execution_count": 32,
   "id": "a625f03a-00d8-40f6-81ba-c845cd446a96",
   "metadata": {},
   "outputs": [
    {
     "data": {
      "text/plain": [
       "{1: 0.27507240052366405, 2: 0.5984052049033999, 3: 0.1265223945729361}"
      ]
     },
     "execution_count": 32,
     "metadata": {},
     "output_type": "execute_result"
    }
   ],
   "source": [
    "percent_each_type(df=person_df, col1='event_type', col2='value')"
   ]
  },
  {
   "cell_type": "code",
   "execution_count": 33,
   "id": "22ef5c41-360c-4851-80bb-c556e381081f",
   "metadata": {},
   "outputs": [
    {
     "data": {
      "text/plain": [
       "{1: 0.18977137571032113, 2: 0.5887405841152372, 3: 0.22148804017444165}"
      ]
     },
     "execution_count": 33,
     "metadata": {},
     "output_type": "execute_result"
    }
   ],
   "source": [
    "percent_each_type(df=bot_df, col1='event_type', col2='value')"
   ]
  },
  {
   "cell_type": "code",
   "execution_count": 34,
   "id": "98e11271-2a0b-470b-a5d9-578912fb1f64",
   "metadata": {},
   "outputs": [],
   "source": [
    "bootstrap_bot = bootstrap(n=person_df.shape[0], arr=bot_df, cols=['value', 'duration'], cat_col='event_type')"
   ]
  },
  {
   "cell_type": "code",
   "execution_count": 35,
   "id": "20a40c1e-6c12-4ee6-92bb-58e789efe288",
   "metadata": {},
   "outputs": [],
   "source": [
    "bootstrap_bot['class'] = 0\n",
    "person_df['class'] = 1"
   ]
  },
  {
   "cell_type": "code",
   "execution_count": 36,
   "id": "1d13c2d5-19f3-48dd-80b5-9d2a895b1fcf",
   "metadata": {},
   "outputs": [],
   "source": [
    "df = pd.concat([person_df, bootstrap_bot])"
   ]
  },
  {
   "cell_type": "code",
   "execution_count": 37,
   "id": "1a6e0573-caa3-4d70-937c-611bbdfd28bd",
   "metadata": {},
   "outputs": [
    {
     "data": {
      "text/plain": [
       "(201655, 6)"
      ]
     },
     "execution_count": 37,
     "metadata": {},
     "output_type": "execute_result"
    }
   ],
   "source": [
    "df.shape"
   ]
  },
  {
   "cell_type": "code",
   "execution_count": 38,
   "id": "edebe036-8ed8-4551-8ee8-2d820e108e45",
   "metadata": {},
   "outputs": [
    {
     "data": {
      "text/html": [
       "<div>\n",
       "<style scoped>\n",
       "    .dataframe tbody tr th:only-of-type {\n",
       "        vertical-align: middle;\n",
       "    }\n",
       "\n",
       "    .dataframe tbody tr th {\n",
       "        vertical-align: top;\n",
       "    }\n",
       "\n",
       "    .dataframe thead th {\n",
       "        text-align: right;\n",
       "    }\n",
       "</style>\n",
       "<table border=\"1\" class=\"dataframe\">\n",
       "  <thead>\n",
       "    <tr style=\"text-align: right;\">\n",
       "      <th></th>\n",
       "      <th>user_id</th>\n",
       "      <th>event_type</th>\n",
       "      <th>value</th>\n",
       "      <th>duration</th>\n",
       "      <th>timestamp</th>\n",
       "      <th>class</th>\n",
       "    </tr>\n",
       "  </thead>\n",
       "  <tbody>\n",
       "    <tr>\n",
       "      <th>0</th>\n",
       "      <td>1.491655e+09</td>\n",
       "      <td>1</td>\n",
       "      <td>0</td>\n",
       "      <td>148</td>\n",
       "      <td>2022-01-30 16:01:01</td>\n",
       "      <td>1</td>\n",
       "    </tr>\n",
       "    <tr>\n",
       "      <th>1</th>\n",
       "      <td>1.541245e+09</td>\n",
       "      <td>2</td>\n",
       "      <td>72</td>\n",
       "      <td>14147</td>\n",
       "      <td>2022-01-30 16:01:01</td>\n",
       "      <td>1</td>\n",
       "    </tr>\n",
       "    <tr>\n",
       "      <th>2</th>\n",
       "      <td>1.541245e+09</td>\n",
       "      <td>3</td>\n",
       "      <td>36</td>\n",
       "      <td>14147</td>\n",
       "      <td>2022-01-30 16:01:01</td>\n",
       "      <td>1</td>\n",
       "    </tr>\n",
       "    <tr>\n",
       "      <th>3</th>\n",
       "      <td>2.968375e+09</td>\n",
       "      <td>1</td>\n",
       "      <td>0</td>\n",
       "      <td>114</td>\n",
       "      <td>2022-01-30 16:01:01</td>\n",
       "      <td>1</td>\n",
       "    </tr>\n",
       "    <tr>\n",
       "      <th>4</th>\n",
       "      <td>3.579288e+09</td>\n",
       "      <td>1</td>\n",
       "      <td>0</td>\n",
       "      <td>1567</td>\n",
       "      <td>2022-01-30 16:01:01</td>\n",
       "      <td>1</td>\n",
       "    </tr>\n",
       "  </tbody>\n",
       "</table>\n",
       "</div>"
      ],
      "text/plain": [
       "        user_id  event_type  value  duration            timestamp  class\n",
       "0  1.491655e+09           1      0       148  2022-01-30 16:01:01      1\n",
       "1  1.541245e+09           2     72     14147  2022-01-30 16:01:01      1\n",
       "2  1.541245e+09           3     36     14147  2022-01-30 16:01:01      1\n",
       "3  2.968375e+09           1      0       114  2022-01-30 16:01:01      1\n",
       "4  3.579288e+09           1      0      1567  2022-01-30 16:01:01      1"
      ]
     },
     "execution_count": 38,
     "metadata": {},
     "output_type": "execute_result"
    }
   ],
   "source": [
    "df.head()"
   ]
  },
  {
   "cell_type": "code",
   "execution_count": 39,
   "id": "1d0caa41-9f2d-4b78-beaf-a5fbc0e0c93d",
   "metadata": {},
   "outputs": [],
   "source": [
    "X = df.loc[:, ['event_type', 'value', 'duration']]\n",
    "y = df['class']"
   ]
  },
  {
   "cell_type": "code",
   "execution_count": 40,
   "id": "fac077d5-d5ab-4e2a-9e37-2b99bacffd45",
   "metadata": {},
   "outputs": [],
   "source": [
    "X_train, X_test, y_train, y_test = train_test_split(X, y, test_size=0.2, stratify=y)"
   ]
  },
  {
   "cell_type": "code",
   "execution_count": 41,
   "id": "d5293385-091b-41ec-b679-d1ceffcbb2e6",
   "metadata": {},
   "outputs": [],
   "source": [
    "scaler = StandardScaler()\n",
    "X_train_pre = scaler.fit_transform(X_train)\n",
    "X_test_pre = scaler.transform(X_test)"
   ]
  },
  {
   "cell_type": "markdown",
   "id": "a55fee03-722c-420d-876d-867919467458",
   "metadata": {},
   "source": [
    "### Base Pipeline"
   ]
  },
  {
   "cell_type": "markdown",
   "id": "a634536c-bf73-45e7-9201-8d05546eba4f",
   "metadata": {},
   "source": [
    "#### LogisticRegression"
   ]
  },
  {
   "cell_type": "code",
   "execution_count": 42,
   "id": "397d1740-1bd2-4bd0-b3c6-36d6bb3c626e",
   "metadata": {},
   "outputs": [],
   "source": [
    "parameters = {'penalty':('l1', 'l2'), 'C':[0.01, 0.1, 1, 10, 100]}\n",
    "logreg = LogisticRegression(random_state=23, solver='liblinear')"
   ]
  },
  {
   "cell_type": "code",
   "execution_count": 43,
   "id": "cfda9ee5-1dd8-45f2-bbe6-023a6b85c834",
   "metadata": {},
   "outputs": [
    {
     "data": {
      "text/plain": [
       "GridSearchCV(estimator=LogisticRegression(random_state=23, solver='liblinear'),\n",
       "             param_grid={'C': [0.01, 0.1, 1, 10, 100], 'penalty': ('l1', 'l2')})"
      ]
     },
     "execution_count": 43,
     "metadata": {},
     "output_type": "execute_result"
    }
   ],
   "source": [
    "clf = GridSearchCV(logreg, parameters)\n",
    "clf.fit(X_train_pre, y_train)"
   ]
  },
  {
   "cell_type": "code",
   "execution_count": 44,
   "id": "91fc68f1-9ed7-46bb-8b6c-90776d9cbd31",
   "metadata": {},
   "outputs": [],
   "source": [
    "params = clf.best_params_"
   ]
  },
  {
   "cell_type": "code",
   "execution_count": 45,
   "id": "5091518e",
   "metadata": {},
   "outputs": [
    {
     "data": {
      "text/plain": [
       "{'C': 10, 'penalty': 'l1'}"
      ]
     },
     "execution_count": 45,
     "metadata": {},
     "output_type": "execute_result"
    }
   ],
   "source": [
    "params"
   ]
  },
  {
   "cell_type": "code",
   "execution_count": 46,
   "id": "e7a37105-1f9f-4225-a743-ad45eb6463f6",
   "metadata": {},
   "outputs": [],
   "source": [
    "logreg = LogisticRegression(random_state=23, solver='liblinear', **params)"
   ]
  },
  {
   "cell_type": "code",
   "execution_count": 47,
   "id": "3b455c0e-c2bc-4794-990f-9d1b0df7c106",
   "metadata": {},
   "outputs": [
    {
     "data": {
      "text/plain": [
       "LogisticRegression(C=10, penalty='l1', random_state=23, solver='liblinear')"
      ]
     },
     "execution_count": 47,
     "metadata": {},
     "output_type": "execute_result"
    }
   ],
   "source": [
    "logreg.fit(X_train_pre, y_train)"
   ]
  },
  {
   "cell_type": "code",
   "execution_count": 48,
   "id": "a462ff13-5c8e-4adf-93de-5fc161738e23",
   "metadata": {},
   "outputs": [],
   "source": [
    "y_pred = logreg.predict(X_test_pre)"
   ]
  },
  {
   "cell_type": "code",
   "execution_count": 49,
   "id": "a7748e6d-4c22-415f-8486-a9550f631c22",
   "metadata": {},
   "outputs": [
    {
     "name": "stdout",
     "output_type": "stream",
     "text": [
      "              precision    recall  f1-score   support\n",
      "\n",
      "           0       0.68      0.90      0.77     20165\n",
      "           1       0.85      0.58      0.69     20166\n",
      "\n",
      "    accuracy                           0.74     40331\n",
      "   macro avg       0.76      0.74      0.73     40331\n",
      "weighted avg       0.76      0.74      0.73     40331\n",
      "\n"
     ]
    }
   ],
   "source": [
    "print(classification_report(y_test, y_pred))"
   ]
  },
  {
   "cell_type": "code",
   "execution_count": 50,
   "id": "632a4378",
   "metadata": {},
   "outputs": [
    {
     "data": {
      "text/plain": [
       "0.6860657676839366"
      ]
     },
     "execution_count": 50,
     "metadata": {},
     "output_type": "execute_result"
    }
   ],
   "source": [
    "f1_score(y_test, y_pred, average='binary')"
   ]
  },
  {
   "cell_type": "markdown",
   "id": "1d06309f-a7a1-45c3-809c-017393add29a",
   "metadata": {},
   "source": [
    "#### LightGBM Optuna"
   ]
  },
  {
   "cell_type": "code",
   "execution_count": 100,
   "id": "65ae4d34-debd-4826-b9c9-46ef9e8f09dd",
   "metadata": {},
   "outputs": [],
   "source": [
    "from optuna.integration import LightGBMPruningCallback\n",
    "from sklearn.metrics import log_loss\n",
    "\n",
    "def objective(trial, X, y):\n",
    "    cv_scores =[]\n",
    "    \n",
    "    param_grid = {\n",
    "        \"n_estimators\": trial.suggest_categorical(\"n_estimators\", [1000]),\n",
    "        \"learning_rate\": trial.suggest_categorical(\"learning_rate\", [0.0001, 0.001, 0.01, 0.1]),\n",
    "        \"num_leaves\": trial.suggest_categorical(\"num_leaves\", [5, 10]),\n",
    "        \"max_depth\": trial.suggest_categorical(\"max_depth\", [5, 10]),\n",
    "        \"min_split_gain\": trial.suggest_categorical(\"min_split_gain\", [0, 0.5]),\n",
    "        \"min_child_samples\": trial.suggest_categorical(\"min_child_samples\", [1, 5]),\n",
    "        \"boosting_type\": trial.suggest_categorical(\"boosting_type\", [\"gbdt\"]),\n",
    "        \"reg_alpha\": trial.suggest_categorical(\"reg_alpha\", [0, 1, 10]),\n",
    "        \"reg_lambda\": trial.suggest_categorical(\"reg_lambda\", [0, 1, 10])}\n",
    "    \n",
    "    X_train, X_test, y_train, y_test = train_test_split(X, y, test_size=0.2, stratify=y)\n",
    "\n",
    "    model = lgb.LGBMClassifier(objective=\"binary\", \n",
    "                               class_weight='balanced', \n",
    "                               random_state=23, \n",
    "                               subsample=1.0, \n",
    "                               subsample_freq=10, \n",
    "                               colsample_bytree=0.85,\n",
    "                               **param_grid)\n",
    "    model.fit(X_train,\n",
    "              y_train,\n",
    "              eval_set = [(X_test, y_test)],\n",
    "              eval_metric=\"binary_logloss\",\n",
    "              early_stopping_rounds=10,\n",
    "              verbose=-1,\n",
    "              callbacks=[LightGBMPruningCallback(trial, metric=\"binary_logloss\")])\n",
    "        \n",
    "    preds = model.predict_proba(X_test)\n",
    "    cv_scores.append(log_loss(y_test, preds))\n",
    "\n",
    "    return cv_scores"
   ]
  },
  {
   "cell_type": "code",
   "execution_count": 101,
   "id": "39c1467a-6b6d-4fca-9b4c-4e002648aa0a",
   "metadata": {},
   "outputs": [
    {
     "name": "stderr",
     "output_type": "stream",
     "text": [
      "\u001b[32m[I 2022-02-07 19:31:39,232]\u001b[0m A new study created in memory with name: LGBM Classifier\u001b[0m\n",
      "\u001b[32m[I 2022-02-07 19:31:41,318]\u001b[0m Trial 0 finished with value: 0.6535582211724887 and parameters: {'n_estimators': 1000, 'learning_rate': 0.0001, 'num_leaves': 5, 'max_depth': 10, 'min_split_gain': 0, 'min_child_samples': 5, 'boosting_type': 'gbdt', 'reg_alpha': 0, 'reg_lambda': 10}. Best is trial 0 with value: 0.6535582211724887.\u001b[0m\n",
      "\u001b[32m[I 2022-02-07 19:31:43,336]\u001b[0m Trial 1 finished with value: 0.3595941321101914 and parameters: {'n_estimators': 1000, 'learning_rate': 0.1, 'num_leaves': 5, 'max_depth': 10, 'min_split_gain': 0, 'min_child_samples': 1, 'boosting_type': 'gbdt', 'reg_alpha': 0, 'reg_lambda': 10}. Best is trial 1 with value: 0.3595941321101914.\u001b[0m\n",
      "\u001b[32m[I 2022-02-07 19:31:45,466]\u001b[0m Trial 2 finished with value: 0.3808277322996819 and parameters: {'n_estimators': 1000, 'learning_rate': 0.01, 'num_leaves': 5, 'max_depth': 5, 'min_split_gain': 0, 'min_child_samples': 5, 'boosting_type': 'gbdt', 'reg_alpha': 10, 'reg_lambda': 10}. Best is trial 1 with value: 0.3595941321101914.\u001b[0m\n",
      "\u001b[32m[I 2022-02-07 19:31:47,632]\u001b[0m Trial 3 finished with value: 0.6530186318382715 and parameters: {'n_estimators': 1000, 'learning_rate': 0.0001, 'num_leaves': 5, 'max_depth': 10, 'min_split_gain': 0, 'min_child_samples': 5, 'boosting_type': 'gbdt', 'reg_alpha': 0, 'reg_lambda': 1}. Best is trial 1 with value: 0.3595941321101914.\u001b[0m\n",
      "\u001b[32m[I 2022-02-07 19:31:50,162]\u001b[0m Trial 4 finished with value: 0.6534211551175153 and parameters: {'n_estimators': 1000, 'learning_rate': 0.0001, 'num_leaves': 5, 'max_depth': 5, 'min_split_gain': 0, 'min_child_samples': 1, 'boosting_type': 'gbdt', 'reg_alpha': 10, 'reg_lambda': 10}. Best is trial 1 with value: 0.3595941321101914.\u001b[0m\n",
      "\u001b[32m[I 2022-02-07 19:31:53,568]\u001b[0m Trial 5 finished with value: 0.6505757037145151 and parameters: {'n_estimators': 1000, 'learning_rate': 0.0001, 'num_leaves': 10, 'max_depth': 10, 'min_split_gain': 0.5, 'min_child_samples': 5, 'boosting_type': 'gbdt', 'reg_alpha': 10, 'reg_lambda': 1}. Best is trial 1 with value: 0.3595941321101914.\u001b[0m\n",
      "\u001b[32m[I 2022-02-07 19:31:53,710]\u001b[0m Trial 6 pruned. Trial was pruned at iteration 0.\u001b[0m\n",
      "\u001b[32m[I 2022-02-07 19:31:53,884]\u001b[0m Trial 7 pruned. Trial was pruned at iteration 0.\u001b[0m\n",
      "\u001b[32m[I 2022-02-07 19:31:57,319]\u001b[0m Trial 8 finished with value: 0.46890824545819787 and parameters: {'n_estimators': 1000, 'learning_rate': 0.001, 'num_leaves': 10, 'max_depth': 5, 'min_split_gain': 0, 'min_child_samples': 5, 'boosting_type': 'gbdt', 'reg_alpha': 0, 'reg_lambda': 1}. Best is trial 1 with value: 0.3595941321101914.\u001b[0m\n",
      "\u001b[32m[I 2022-02-07 19:32:01,548]\u001b[0m Trial 9 finished with value: 0.3695124992335374 and parameters: {'n_estimators': 1000, 'learning_rate': 0.01, 'num_leaves': 10, 'max_depth': 10, 'min_split_gain': 0, 'min_child_samples': 5, 'boosting_type': 'gbdt', 'reg_alpha': 10, 'reg_lambda': 10}. Best is trial 1 with value: 0.3595941321101914.\u001b[0m\n",
      "\u001b[32m[I 2022-02-07 19:32:03,463]\u001b[0m Trial 10 finished with value: 0.36385170836557373 and parameters: {'n_estimators': 1000, 'learning_rate': 0.1, 'num_leaves': 5, 'max_depth': 5, 'min_split_gain': 0.5, 'min_child_samples': 1, 'boosting_type': 'gbdt', 'reg_alpha': 1, 'reg_lambda': 0}. Best is trial 1 with value: 0.3595941321101914.\u001b[0m\n",
      "\u001b[32m[I 2022-02-07 19:32:04,895]\u001b[0m Trial 11 finished with value: 0.36542723847499387 and parameters: {'n_estimators': 1000, 'learning_rate': 0.1, 'num_leaves': 5, 'max_depth': 5, 'min_split_gain': 0.5, 'min_child_samples': 1, 'boosting_type': 'gbdt', 'reg_alpha': 1, 'reg_lambda': 0}. Best is trial 1 with value: 0.3595941321101914.\u001b[0m\n",
      "\u001b[32m[I 2022-02-07 19:32:06,228]\u001b[0m Trial 12 finished with value: 0.36766498019037785 and parameters: {'n_estimators': 1000, 'learning_rate': 0.1, 'num_leaves': 5, 'max_depth': 5, 'min_split_gain': 0.5, 'min_child_samples': 1, 'boosting_type': 'gbdt', 'reg_alpha': 1, 'reg_lambda': 0}. Best is trial 1 with value: 0.3595941321101914.\u001b[0m\n",
      "\u001b[32m[I 2022-02-07 19:32:07,456]\u001b[0m Trial 13 finished with value: 0.36442488313233606 and parameters: {'n_estimators': 1000, 'learning_rate': 0.1, 'num_leaves': 5, 'max_depth': 5, 'min_split_gain': 0.5, 'min_child_samples': 1, 'boosting_type': 'gbdt', 'reg_alpha': 1, 'reg_lambda': 0}. Best is trial 1 with value: 0.3595941321101914.\u001b[0m\n",
      "\u001b[32m[I 2022-02-07 19:32:08,963]\u001b[0m Trial 14 finished with value: 0.36140765148457926 and parameters: {'n_estimators': 1000, 'learning_rate': 0.1, 'num_leaves': 5, 'max_depth': 5, 'min_split_gain': 0.5, 'min_child_samples': 1, 'boosting_type': 'gbdt', 'reg_alpha': 1, 'reg_lambda': 0}. Best is trial 1 with value: 0.3595941321101914.\u001b[0m\n",
      "\u001b[32m[I 2022-02-07 19:32:11,256]\u001b[0m Trial 15 finished with value: 0.3549926892624611 and parameters: {'n_estimators': 1000, 'learning_rate': 0.1, 'num_leaves': 10, 'max_depth': 10, 'min_split_gain': 0, 'min_child_samples': 1, 'boosting_type': 'gbdt', 'reg_alpha': 0, 'reg_lambda': 0}. Best is trial 15 with value: 0.3549926892624611.\u001b[0m\n",
      "\u001b[32m[I 2022-02-07 19:32:11,408]\u001b[0m Trial 16 pruned. Trial was pruned at iteration 0.\u001b[0m\n",
      "\u001b[32m[I 2022-02-07 19:32:14,867]\u001b[0m Trial 17 finished with value: 0.3606254079466281 and parameters: {'n_estimators': 1000, 'learning_rate': 0.1, 'num_leaves': 10, 'max_depth': 10, 'min_split_gain': 0, 'min_child_samples': 1, 'boosting_type': 'gbdt', 'reg_alpha': 0, 'reg_lambda': 10}. Best is trial 15 with value: 0.3549926892624611.\u001b[0m\n",
      "\u001b[32m[I 2022-02-07 19:32:17,049]\u001b[0m Trial 18 finished with value: 0.35315490126695503 and parameters: {'n_estimators': 1000, 'learning_rate': 0.1, 'num_leaves': 10, 'max_depth': 10, 'min_split_gain': 0, 'min_child_samples': 1, 'boosting_type': 'gbdt', 'reg_alpha': 0, 'reg_lambda': 0}. Best is trial 18 with value: 0.35315490126695503.\u001b[0m\n",
      "\u001b[32m[I 2022-02-07 19:32:19,875]\u001b[0m Trial 19 finished with value: 0.3558114236327401 and parameters: {'n_estimators': 1000, 'learning_rate': 0.1, 'num_leaves': 10, 'max_depth': 10, 'min_split_gain': 0, 'min_child_samples': 1, 'boosting_type': 'gbdt', 'reg_alpha': 0, 'reg_lambda': 0}. Best is trial 18 with value: 0.35315490126695503.\u001b[0m\n",
      "\u001b[32m[I 2022-02-07 19:32:20,049]\u001b[0m Trial 20 pruned. Trial was pruned at iteration 0.\u001b[0m\n",
      "\u001b[32m[I 2022-02-07 19:32:22,757]\u001b[0m Trial 21 finished with value: 0.3550754964421868 and parameters: {'n_estimators': 1000, 'learning_rate': 0.1, 'num_leaves': 10, 'max_depth': 10, 'min_split_gain': 0, 'min_child_samples': 1, 'boosting_type': 'gbdt', 'reg_alpha': 0, 'reg_lambda': 0}. Best is trial 18 with value: 0.35315490126695503.\u001b[0m\n",
      "\u001b[32m[I 2022-02-07 19:32:25,652]\u001b[0m Trial 22 finished with value: 0.35071945559765766 and parameters: {'n_estimators': 1000, 'learning_rate': 0.1, 'num_leaves': 10, 'max_depth': 10, 'min_split_gain': 0, 'min_child_samples': 1, 'boosting_type': 'gbdt', 'reg_alpha': 0, 'reg_lambda': 0}. Best is trial 22 with value: 0.35071945559765766.\u001b[0m\n",
      "\u001b[32m[I 2022-02-07 19:32:27,806]\u001b[0m Trial 23 finished with value: 0.3562181854409175 and parameters: {'n_estimators': 1000, 'learning_rate': 0.1, 'num_leaves': 10, 'max_depth': 10, 'min_split_gain': 0, 'min_child_samples': 1, 'boosting_type': 'gbdt', 'reg_alpha': 0, 'reg_lambda': 0}. Best is trial 22 with value: 0.35071945559765766.\u001b[0m\n",
      "\u001b[32m[I 2022-02-07 19:32:27,959]\u001b[0m Trial 24 pruned. Trial was pruned at iteration 0.\u001b[0m\n",
      "\u001b[32m[I 2022-02-07 19:32:30,192]\u001b[0m Trial 25 finished with value: 0.3545905846766262 and parameters: {'n_estimators': 1000, 'learning_rate': 0.1, 'num_leaves': 10, 'max_depth': 10, 'min_split_gain': 0, 'min_child_samples': 1, 'boosting_type': 'gbdt', 'reg_alpha': 0, 'reg_lambda': 0}. Best is trial 22 with value: 0.35071945559765766.\u001b[0m\n",
      "\u001b[32m[I 2022-02-07 19:32:31,562]\u001b[0m Trial 26 finished with value: 0.35578276110851464 and parameters: {'n_estimators': 1000, 'learning_rate': 0.1, 'num_leaves': 10, 'max_depth': 10, 'min_split_gain': 0, 'min_child_samples': 1, 'boosting_type': 'gbdt', 'reg_alpha': 0, 'reg_lambda': 0}. Best is trial 22 with value: 0.35071945559765766.\u001b[0m\n",
      "\u001b[32m[I 2022-02-07 19:32:33,106]\u001b[0m Trial 27 finished with value: 0.3583235617951835 and parameters: {'n_estimators': 1000, 'learning_rate': 0.1, 'num_leaves': 10, 'max_depth': 10, 'min_split_gain': 0, 'min_child_samples': 1, 'boosting_type': 'gbdt', 'reg_alpha': 0, 'reg_lambda': 0}. Best is trial 22 with value: 0.35071945559765766.\u001b[0m\n",
      "\u001b[32m[I 2022-02-07 19:32:35,725]\u001b[0m Trial 28 finished with value: 0.35610541133237217 and parameters: {'n_estimators': 1000, 'learning_rate': 0.1, 'num_leaves': 10, 'max_depth': 10, 'min_split_gain': 0, 'min_child_samples': 1, 'boosting_type': 'gbdt', 'reg_alpha': 0, 'reg_lambda': 0}. Best is trial 22 with value: 0.35071945559765766.\u001b[0m\n",
      "\u001b[32m[I 2022-02-07 19:32:35,885]\u001b[0m Trial 29 pruned. Trial was pruned at iteration 0.\u001b[0m\n",
      "\u001b[32m[I 2022-02-07 19:32:36,073]\u001b[0m Trial 30 pruned. Trial was pruned at iteration 0.\u001b[0m\n",
      "\u001b[32m[I 2022-02-07 19:32:39,019]\u001b[0m Trial 31 finished with value: 0.35189601352810507 and parameters: {'n_estimators': 1000, 'learning_rate': 0.1, 'num_leaves': 10, 'max_depth': 10, 'min_split_gain': 0, 'min_child_samples': 1, 'boosting_type': 'gbdt', 'reg_alpha': 0, 'reg_lambda': 0}. Best is trial 22 with value: 0.35071945559765766.\u001b[0m\n",
      "\u001b[32m[I 2022-02-07 19:32:41,959]\u001b[0m Trial 32 finished with value: 0.35887037236020564 and parameters: {'n_estimators': 1000, 'learning_rate': 0.1, 'num_leaves': 10, 'max_depth': 10, 'min_split_gain': 0, 'min_child_samples': 1, 'boosting_type': 'gbdt', 'reg_alpha': 0, 'reg_lambda': 0}. Best is trial 22 with value: 0.35071945559765766.\u001b[0m\n",
      "\u001b[32m[I 2022-02-07 19:32:43,503]\u001b[0m Trial 33 finished with value: 0.3597070126309897 and parameters: {'n_estimators': 1000, 'learning_rate': 0.1, 'num_leaves': 10, 'max_depth': 10, 'min_split_gain': 0, 'min_child_samples': 1, 'boosting_type': 'gbdt', 'reg_alpha': 0, 'reg_lambda': 0}. Best is trial 22 with value: 0.35071945559765766.\u001b[0m\n",
      "\u001b[32m[I 2022-02-07 19:32:46,044]\u001b[0m Trial 34 finished with value: 0.3539978062476879 and parameters: {'n_estimators': 1000, 'learning_rate': 0.1, 'num_leaves': 10, 'max_depth': 10, 'min_split_gain': 0, 'min_child_samples': 1, 'boosting_type': 'gbdt', 'reg_alpha': 0, 'reg_lambda': 0}. Best is trial 22 with value: 0.35071945559765766.\u001b[0m\n",
      "\u001b[32m[I 2022-02-07 19:32:46,208]\u001b[0m Trial 35 pruned. Trial was pruned at iteration 0.\u001b[0m\n",
      "\u001b[32m[I 2022-02-07 19:32:46,437]\u001b[0m Trial 36 pruned. Trial was pruned at iteration 1.\u001b[0m\n",
      "\u001b[32m[I 2022-02-07 19:32:46,628]\u001b[0m Trial 37 pruned. Trial was pruned at iteration 0.\u001b[0m\n",
      "\u001b[32m[I 2022-02-07 19:32:46,815]\u001b[0m Trial 38 pruned. Trial was pruned at iteration 0.\u001b[0m\n",
      "\u001b[32m[I 2022-02-07 19:32:49,898]\u001b[0m Trial 39 finished with value: 0.3510985449006342 and parameters: {'n_estimators': 1000, 'learning_rate': 0.1, 'num_leaves': 10, 'max_depth': 10, 'min_split_gain': 0, 'min_child_samples': 1, 'boosting_type': 'gbdt', 'reg_alpha': 0, 'reg_lambda': 0}. Best is trial 22 with value: 0.35071945559765766.\u001b[0m\n",
      "\u001b[32m[I 2022-02-07 19:32:50,060]\u001b[0m Trial 40 pruned. Trial was pruned at iteration 0.\u001b[0m\n",
      "\u001b[32m[I 2022-02-07 19:32:51,048]\u001b[0m Trial 41 finished with value: 0.358384642108568 and parameters: {'n_estimators': 1000, 'learning_rate': 0.1, 'num_leaves': 10, 'max_depth': 10, 'min_split_gain': 0, 'min_child_samples': 1, 'boosting_type': 'gbdt', 'reg_alpha': 0, 'reg_lambda': 0}. Best is trial 22 with value: 0.35071945559765766.\u001b[0m\n",
      "\u001b[32m[I 2022-02-07 19:32:51,210]\u001b[0m Trial 42 pruned. Trial was pruned at iteration 0.\u001b[0m\n",
      "\u001b[32m[I 2022-02-07 19:32:54,413]\u001b[0m Trial 43 finished with value: 0.35019276175113845 and parameters: {'n_estimators': 1000, 'learning_rate': 0.1, 'num_leaves': 10, 'max_depth': 10, 'min_split_gain': 0, 'min_child_samples': 1, 'boosting_type': 'gbdt', 'reg_alpha': 0, 'reg_lambda': 0}. Best is trial 43 with value: 0.35019276175113845.\u001b[0m\n",
      "\u001b[32m[I 2022-02-07 19:32:58,427]\u001b[0m Trial 44 finished with value: 0.35292410112425027 and parameters: {'n_estimators': 1000, 'learning_rate': 0.1, 'num_leaves': 10, 'max_depth': 10, 'min_split_gain': 0, 'min_child_samples': 1, 'boosting_type': 'gbdt', 'reg_alpha': 0, 'reg_lambda': 1}. Best is trial 43 with value: 0.35019276175113845.\u001b[0m\n",
      "\u001b[32m[I 2022-02-07 19:32:58,565]\u001b[0m Trial 45 pruned. Trial was pruned at iteration 0.\u001b[0m\n",
      "\u001b[32m[I 2022-02-07 19:32:58,743]\u001b[0m Trial 46 pruned. Trial was pruned at iteration 0.\u001b[0m\n",
      "\u001b[32m[I 2022-02-07 19:32:58,917]\u001b[0m Trial 47 pruned. Trial was pruned at iteration 0.\u001b[0m\n",
      "\u001b[32m[I 2022-02-07 19:32:59,110]\u001b[0m Trial 48 pruned. Trial was pruned at iteration 0.\u001b[0m\n",
      "\u001b[32m[I 2022-02-07 19:33:00,137]\u001b[0m Trial 49 finished with value: 0.36232308284026704 and parameters: {'n_estimators': 1000, 'learning_rate': 0.1, 'num_leaves': 10, 'max_depth': 10, 'min_split_gain': 0.5, 'min_child_samples': 5, 'boosting_type': 'gbdt', 'reg_alpha': 0, 'reg_lambda': 1}. Best is trial 43 with value: 0.35019276175113845.\u001b[0m\n",
      "\u001b[32m[I 2022-02-07 19:33:00,308]\u001b[0m Trial 50 pruned. Trial was pruned at iteration 0.\u001b[0m\n",
      "\u001b[32m[I 2022-02-07 19:33:02,019]\u001b[0m Trial 51 finished with value: 0.35231654501848214 and parameters: {'n_estimators': 1000, 'learning_rate': 0.1, 'num_leaves': 10, 'max_depth': 10, 'min_split_gain': 0, 'min_child_samples': 1, 'boosting_type': 'gbdt', 'reg_alpha': 0, 'reg_lambda': 0}. Best is trial 43 with value: 0.35019276175113845.\u001b[0m\n",
      "\u001b[32m[I 2022-02-07 19:33:02,169]\u001b[0m Trial 52 pruned. Trial was pruned at iteration 0.\u001b[0m\n",
      "\u001b[32m[I 2022-02-07 19:33:02,342]\u001b[0m Trial 53 pruned. Trial was pruned at iteration 0.\u001b[0m\n",
      "\u001b[32m[I 2022-02-07 19:33:02,516]\u001b[0m Trial 54 pruned. Trial was pruned at iteration 0.\u001b[0m\n",
      "\u001b[32m[I 2022-02-07 19:33:05,014]\u001b[0m Trial 55 finished with value: 0.3529734340794694 and parameters: {'n_estimators': 1000, 'learning_rate': 0.1, 'num_leaves': 10, 'max_depth': 5, 'min_split_gain': 0, 'min_child_samples': 1, 'boosting_type': 'gbdt', 'reg_alpha': 0, 'reg_lambda': 1}. Best is trial 43 with value: 0.35019276175113845.\u001b[0m\n",
      "\u001b[32m[I 2022-02-07 19:33:05,952]\u001b[0m Trial 56 finished with value: 0.35990495734968325 and parameters: {'n_estimators': 1000, 'learning_rate': 0.1, 'num_leaves': 10, 'max_depth': 10, 'min_split_gain': 0.5, 'min_child_samples': 1, 'boosting_type': 'gbdt', 'reg_alpha': 0, 'reg_lambda': 0}. Best is trial 43 with value: 0.35019276175113845.\u001b[0m\n",
      "\u001b[32m[I 2022-02-07 19:33:06,135]\u001b[0m Trial 57 pruned. Trial was pruned at iteration 0.\u001b[0m\n",
      "\u001b[32m[I 2022-02-07 19:33:06,316]\u001b[0m Trial 58 pruned. Trial was pruned at iteration 0.\u001b[0m\n",
      "\u001b[32m[I 2022-02-07 19:33:10,186]\u001b[0m Trial 59 finished with value: 0.3494267223115104 and parameters: {'n_estimators': 1000, 'learning_rate': 0.1, 'num_leaves': 10, 'max_depth': 10, 'min_split_gain': 0, 'min_child_samples': 1, 'boosting_type': 'gbdt', 'reg_alpha': 1, 'reg_lambda': 10}. Best is trial 59 with value: 0.3494267223115104.\u001b[0m\n",
      "\u001b[32m[I 2022-02-07 19:33:10,359]\u001b[0m Trial 60 pruned. Trial was pruned at iteration 10.\u001b[0m\n",
      "\u001b[32m[I 2022-02-07 19:33:10,533]\u001b[0m Trial 61 pruned. Trial was pruned at iteration 0.\u001b[0m\n",
      "\u001b[32m[I 2022-02-07 19:33:10,722]\u001b[0m Trial 62 pruned. Trial was pruned at iteration 5.\u001b[0m\n",
      "\u001b[32m[I 2022-02-07 19:33:10,919]\u001b[0m Trial 63 pruned. Trial was pruned at iteration 0.\u001b[0m\n",
      "\u001b[32m[I 2022-02-07 19:33:13,205]\u001b[0m Trial 64 finished with value: 0.35331736286456655 and parameters: {'n_estimators': 1000, 'learning_rate': 0.1, 'num_leaves': 10, 'max_depth': 10, 'min_split_gain': 0, 'min_child_samples': 1, 'boosting_type': 'gbdt', 'reg_alpha': 1, 'reg_lambda': 0}. Best is trial 59 with value: 0.3494267223115104.\u001b[0m\n",
      "\u001b[32m[I 2022-02-07 19:33:16,689]\u001b[0m Trial 65 finished with value: 0.35280098052523423 and parameters: {'n_estimators': 1000, 'learning_rate': 0.1, 'num_leaves': 10, 'max_depth': 10, 'min_split_gain': 0, 'min_child_samples': 1, 'boosting_type': 'gbdt', 'reg_alpha': 0, 'reg_lambda': 10}. Best is trial 59 with value: 0.3494267223115104.\u001b[0m\n",
      "\u001b[32m[I 2022-02-07 19:33:16,838]\u001b[0m Trial 66 pruned. Trial was pruned at iteration 0.\u001b[0m\n",
      "\u001b[32m[I 2022-02-07 19:33:17,043]\u001b[0m Trial 67 pruned. Trial was pruned at iteration 0.\u001b[0m\n",
      "\u001b[32m[I 2022-02-07 19:33:17,232]\u001b[0m Trial 68 pruned. Trial was pruned at iteration 0.\u001b[0m\n",
      "\u001b[32m[I 2022-02-07 19:33:17,390]\u001b[0m Trial 69 pruned. Trial was pruned at iteration 0.\u001b[0m\n",
      "\u001b[32m[I 2022-02-07 19:33:17,564]\u001b[0m Trial 70 pruned. Trial was pruned at iteration 0.\u001b[0m\n",
      "\u001b[32m[I 2022-02-07 19:33:17,744]\u001b[0m Trial 71 pruned. Trial was pruned at iteration 0.\u001b[0m\n",
      "\u001b[32m[I 2022-02-07 19:33:17,934]\u001b[0m Trial 72 pruned. Trial was pruned at iteration 0.\u001b[0m\n",
      "\u001b[32m[I 2022-02-07 19:33:18,091]\u001b[0m Trial 73 pruned. Trial was pruned at iteration 0.\u001b[0m\n",
      "\u001b[32m[I 2022-02-07 19:33:20,447]\u001b[0m Trial 74 finished with value: 0.3514489402463446 and parameters: {'n_estimators': 1000, 'learning_rate': 0.1, 'num_leaves': 10, 'max_depth': 10, 'min_split_gain': 0, 'min_child_samples': 1, 'boosting_type': 'gbdt', 'reg_alpha': 0, 'reg_lambda': 1}. Best is trial 59 with value: 0.3494267223115104.\u001b[0m\n",
      "\u001b[32m[I 2022-02-07 19:33:20,626]\u001b[0m Trial 75 pruned. Trial was pruned at iteration 2.\u001b[0m\n",
      "\u001b[32m[I 2022-02-07 19:33:23,010]\u001b[0m Trial 76 finished with value: 0.35081743876452665 and parameters: {'n_estimators': 1000, 'learning_rate': 0.1, 'num_leaves': 10, 'max_depth': 10, 'min_split_gain': 0, 'min_child_samples': 1, 'boosting_type': 'gbdt', 'reg_alpha': 0, 'reg_lambda': 0}. Best is trial 59 with value: 0.3494267223115104.\u001b[0m\n",
      "\u001b[32m[I 2022-02-07 19:33:23,168]\u001b[0m Trial 77 pruned. Trial was pruned at iteration 0.\u001b[0m\n",
      "\u001b[32m[I 2022-02-07 19:33:26,044]\u001b[0m Trial 78 finished with value: 0.34781686048829 and parameters: {'n_estimators': 1000, 'learning_rate': 0.1, 'num_leaves': 10, 'max_depth': 10, 'min_split_gain': 0, 'min_child_samples': 1, 'boosting_type': 'gbdt', 'reg_alpha': 0, 'reg_lambda': 0}. Best is trial 78 with value: 0.34781686048829.\u001b[0m\n",
      "\u001b[32m[I 2022-02-07 19:33:26,199]\u001b[0m Trial 79 pruned. Trial was pruned at iteration 0.\u001b[0m\n",
      "\u001b[32m[I 2022-02-07 19:33:26,935]\u001b[0m Trial 80 finished with value: 0.3609563684314939 and parameters: {'n_estimators': 1000, 'learning_rate': 0.1, 'num_leaves': 10, 'max_depth': 10, 'min_split_gain': 0.5, 'min_child_samples': 1, 'boosting_type': 'gbdt', 'reg_alpha': 10, 'reg_lambda': 0}. Best is trial 78 with value: 0.34781686048829.\u001b[0m\n",
      "\u001b[32m[I 2022-02-07 19:33:27,088]\u001b[0m Trial 81 pruned. Trial was pruned at iteration 0.\u001b[0m\n",
      "\u001b[32m[I 2022-02-07 19:33:27,263]\u001b[0m Trial 82 pruned. Trial was pruned at iteration 0.\u001b[0m\n",
      "\u001b[32m[I 2022-02-07 19:33:29,111]\u001b[0m Trial 83 finished with value: 0.35097252485003877 and parameters: {'n_estimators': 1000, 'learning_rate': 0.1, 'num_leaves': 10, 'max_depth': 10, 'min_split_gain': 0, 'min_child_samples': 1, 'boosting_type': 'gbdt', 'reg_alpha': 0, 'reg_lambda': 0}. Best is trial 78 with value: 0.34781686048829.\u001b[0m\n",
      "\u001b[32m[I 2022-02-07 19:33:29,345]\u001b[0m Trial 84 pruned. Trial was pruned at iteration 31.\u001b[0m\n",
      "\u001b[32m[I 2022-02-07 19:33:29,536]\u001b[0m Trial 85 pruned. Trial was pruned at iteration 0.\u001b[0m\n",
      "\u001b[32m[I 2022-02-07 19:33:29,700]\u001b[0m Trial 86 pruned. Trial was pruned at iteration 0.\u001b[0m\n",
      "\u001b[32m[I 2022-02-07 19:33:29,876]\u001b[0m Trial 87 pruned. Trial was pruned at iteration 0.\u001b[0m\n",
      "\u001b[32m[I 2022-02-07 19:33:30,041]\u001b[0m Trial 88 pruned. Trial was pruned at iteration 0.\u001b[0m\n",
      "\u001b[32m[I 2022-02-07 19:33:30,246]\u001b[0m Trial 89 pruned. Trial was pruned at iteration 0.\u001b[0m\n",
      "\u001b[32m[I 2022-02-07 19:33:33,282]\u001b[0m Trial 90 finished with value: 0.3502454922779852 and parameters: {'n_estimators': 1000, 'learning_rate': 0.1, 'num_leaves': 10, 'max_depth': 10, 'min_split_gain': 0, 'min_child_samples': 1, 'boosting_type': 'gbdt', 'reg_alpha': 1, 'reg_lambda': 1}. Best is trial 78 with value: 0.34781686048829.\u001b[0m\n",
      "\u001b[32m[I 2022-02-07 19:33:33,440]\u001b[0m Trial 91 pruned. Trial was pruned at iteration 0.\u001b[0m\n",
      "\u001b[32m[I 2022-02-07 19:33:33,620]\u001b[0m Trial 92 pruned. Trial was pruned at iteration 4.\u001b[0m\n",
      "\u001b[32m[I 2022-02-07 19:33:33,810]\u001b[0m Trial 93 pruned. Trial was pruned at iteration 0.\u001b[0m\n",
      "\u001b[32m[I 2022-02-07 19:33:33,983]\u001b[0m Trial 94 pruned. Trial was pruned at iteration 0.\u001b[0m\n",
      "\u001b[32m[I 2022-02-07 19:33:34,188]\u001b[0m Trial 95 pruned. Trial was pruned at iteration 0.\u001b[0m\n",
      "\u001b[32m[I 2022-02-07 19:33:34,353]\u001b[0m Trial 96 pruned. Trial was pruned at iteration 0.\u001b[0m\n",
      "\u001b[32m[I 2022-02-07 19:33:34,526]\u001b[0m Trial 97 pruned. Trial was pruned at iteration 0.\u001b[0m\n",
      "\u001b[32m[I 2022-02-07 19:33:34,716]\u001b[0m Trial 98 pruned. Trial was pruned at iteration 0.\u001b[0m\n",
      "\u001b[32m[I 2022-02-07 19:33:34,905]\u001b[0m Trial 99 pruned. Trial was pruned at iteration 0.\u001b[0m\n"
     ]
    },
    {
     "name": "stdout",
     "output_type": "stream",
     "text": [
      "\tBest value (rmse): 0.34782\n",
      "\tBest params:\n"
     ]
    }
   ],
   "source": [
    "study = optuna.create_study(direction=\"minimize\", study_name=\"LGBM Classifier\")\n",
    "func = lambda trial: objective(trial, X_train_pre, y_train)\n",
    "\n",
    "n_trials = 100\n",
    "\n",
    "optim = study.optimize(func, n_trials=n_trials)\n",
    "print(f\"\\tBest value (rmse): {study.best_value:.5f}\")\n",
    "print(f\"\\tBest params:\")"
   ]
  },
  {
   "cell_type": "code",
   "execution_count": 102,
   "id": "3eb7a48c-5adb-4d9e-83ca-28b172996ec7",
   "metadata": {},
   "outputs": [
    {
     "name": "stdout",
     "output_type": "stream",
     "text": [
      "\t\tn_estimators: 1000\n",
      "\t\tlearning_rate: 0.1\n",
      "\t\tnum_leaves: 10\n",
      "\t\tmax_depth: 10\n",
      "\t\tmin_split_gain: 0\n",
      "\t\tmin_child_samples: 1\n",
      "\t\tboosting_type: gbdt\n",
      "\t\treg_alpha: 0\n",
      "\t\treg_lambda: 0\n"
     ]
    }
   ],
   "source": [
    "for key, value in study.best_params.items():\n",
    "    print(f\"\\t\\t{key}: {value}\")"
   ]
  },
  {
   "cell_type": "code",
   "execution_count": 179,
   "id": "f8059730-1c85-4ce8-b3df-4efdda30dd5e",
   "metadata": {},
   "outputs": [],
   "source": [
    "best_params = {'n_estimators': 1000,\n",
    "               'learning_rate': 0.01,\n",
    "               'max_depth': 5,\n",
    "               'boosting_type': 'gbdt'}"
   ]
  },
  {
   "cell_type": "code",
   "execution_count": 180,
   "id": "facbaba2-9069-4eb8-91a5-3e6b5a43f3ca",
   "metadata": {},
   "outputs": [
    {
     "name": "stdout",
     "output_type": "stream",
     "text": [
      "              precision    recall  f1-score   support\n",
      "\n",
      "           0       0.81      0.86      0.84     20165\n",
      "           1       0.85      0.80      0.83     20166\n",
      "\n",
      "    accuracy                           0.83     40331\n",
      "   macro avg       0.83      0.83      0.83     40331\n",
      "weighted avg       0.83      0.83      0.83     40331\n",
      "\n"
     ]
    },
    {
     "data": {
      "image/png": "[encoded data removed]",
      "text/plain": [
       "<Figure size 432x288 with 1 Axes>"
      ]
     },
     "metadata": {
      "needs_background": "light"
     },
     "output_type": "display_data"
    }
   ],
   "source": [
    "lgb_best = lgb.LGBMClassifier(objective=\"binary\",\n",
    "                          class_weight='balanced', \n",
    "                          random_state=23,\n",
    "                          **best_params)\n",
    "\n",
    "lgb_best_fit = lgb_best.fit(X_train_pre,\n",
    "                            y_train,\n",
    "                            eval_set = [(X_train_pre, y_train), (X_test_pre, y_test)],\n",
    "                            eval_metric=\"binary_logloss\",\n",
    "                            verbose=-1,\n",
    "                            early_stopping_rounds=10)\n",
    "\n",
    "lgb.plot_metric(lgb_best_fit)\n",
    "\n",
    "y_pred_test = lgb_best_fit.predict(X_test_pre)\n",
    "print(classification_report(y_test, y_pred_test))"
   ]
  },
  {
   "cell_type": "markdown",
   "id": "46d8a284-9f84-4884-bb1c-07cf64fed892",
   "metadata": {},
   "source": [
    "#### SGDClassifier"
   ]
  },
  {
   "cell_type": "code",
   "execution_count": 185,
   "id": "9241ae20-0b34-45f0-a9e2-1d2565e4124d",
   "metadata": {},
   "outputs": [],
   "source": [
    "sgd = SGDClassifier(loss='hinge', random_state=23, alpha=0.000046, penalty='elasticnet')\n",
    "sgd = sgd.fit(X_train_pre, y_train)"
   ]
  },
  {
   "cell_type": "code",
   "execution_count": 186,
   "id": "44591a5d-cd1a-44d2-a065-6ff0399ef858",
   "metadata": {},
   "outputs": [
    {
     "name": "stdout",
     "output_type": "stream",
     "text": [
      "              precision    recall  f1-score   support\n",
      "\n",
      "           0       0.64      0.93      0.76     20165\n",
      "           1       0.87      0.49      0.63     20166\n",
      "\n",
      "    accuracy                           0.71     40331\n",
      "   macro avg       0.76      0.71      0.69     40331\n",
      "weighted avg       0.76      0.71      0.69     40331\n",
      "\n"
     ]
    }
   ],
   "source": [
    "y_pred_test = sgd.predict(X_test_pre)\n",
    "print(classification_report(y_test, y_pred_test))"
   ]
  },
  {
   "cell_type": "markdown",
   "id": "55c5d940-77d5-488f-822a-c7b5ce13b3a4",
   "metadata": {},
   "source": [
    "#### DecisionTreeClassifier"
   ]
  },
  {
   "cell_type": "code",
   "execution_count": 187,
   "id": "b3c4d081-4a39-4d7a-9d48-c0c922a0dcb1",
   "metadata": {},
   "outputs": [],
   "source": [
    "tree = DecisionTreeClassifier(random_state=23, \n",
    "                              min_samples_split=5, \n",
    "                              class_weight='balanced',\n",
    "                             ).fit(X_train_pre, y_train)"
   ]
  },
  {
   "cell_type": "code",
   "execution_count": 188,
   "id": "1b721289-4da0-42ee-9cd3-f69a222f9693",
   "metadata": {},
   "outputs": [
    {
     "name": "stdout",
     "output_type": "stream",
     "text": [
      "              precision    recall  f1-score   support\n",
      "\n",
      "           0       0.79      0.88      0.83     20165\n",
      "           1       0.87      0.76      0.81     20166\n",
      "\n",
      "    accuracy                           0.82     40331\n",
      "   macro avg       0.83      0.82      0.82     40331\n",
      "weighted avg       0.83      0.82      0.82     40331\n",
      "\n"
     ]
    }
   ],
   "source": [
    "y_pred_test = tree.predict(X_test_pre)\n",
    "print(classification_report(y_test, y_pred_test))"
   ]
  },
  {
   "cell_type": "markdown",
   "id": "49e201cb-243d-4e77-bb06-5c096aec3958",
   "metadata": {},
   "source": [
    "#### KNeighborsClassifier"
   ]
  },
  {
   "cell_type": "code",
   "execution_count": 213,
   "id": "53c2c8e5-7112-4c10-ad57-477344ca5d31",
   "metadata": {},
   "outputs": [],
   "source": [
    "knn = KNeighborsClassifier(n_neighbors=6).fit(X_train_pre, y_train)"
   ]
  },
  {
   "cell_type": "code",
   "execution_count": 214,
   "id": "ac0eb001-b181-4207-9da5-0dc99ce40600",
   "metadata": {},
   "outputs": [
    {
     "name": "stdout",
     "output_type": "stream",
     "text": [
      "              precision    recall  f1-score   support\n",
      "\n",
      "           0       0.77      0.89      0.83     20165\n",
      "           1       0.87      0.74      0.80     20166\n",
      "\n",
      "    accuracy                           0.81     40331\n",
      "   macro avg       0.82      0.81      0.81     40331\n",
      "weighted avg       0.82      0.81      0.81     40331\n",
      "\n"
     ]
    }
   ],
   "source": [
    "y_pred_test = knn.predict(X_test_pre)\n",
    "print(classification_report(y_test, y_pred_test))"
   ]
  },
  {
   "cell_type": "code",
   "execution_count": null,
   "id": "64d4ed18-42cb-49ce-9f31-d45be8764c3f",
   "metadata": {},
   "outputs": [],
   "source": []
  }
 ],
 "metadata": {
  "kernelspec": {
   "display_name": "Python 3 (ipykernel)",
   "language": "python",
   "name": "python3"
  },
  "language_info": {
   "codemirror_mode": {
    "name": "ipython",
    "version": 3
   },
   "file_extension": ".py",
   "mimetype": "text/x-python",
   "name": "python",
   "nbconvert_exporter": "python",
   "pygments_lexer": "ipython3",
   "version": "3.9.7"
  }
 },
 "nbformat": 4,
 "nbformat_minor": 5
}
